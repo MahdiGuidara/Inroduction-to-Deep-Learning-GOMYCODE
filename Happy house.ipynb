{
 "cells": [
  {
   "cell_type": "markdown",
   "id": "1b399c07",
   "metadata": {},
   "source": [
    "# If you happy and I know it you can enter my House"
   ]
  },
  {
   "cell_type": "markdown",
   "id": "04efe737",
   "metadata": {},
   "source": [
    "### You'll see how you can in a couple of hours build a deep learning algorithm."
   ]
  },
  {
   "cell_type": "code",
   "execution_count": 1,
   "id": "498229ff",
   "metadata": {},
   "outputs": [],
   "source": [
    "import numpy as np\n",
    "from sklearn.metrics import confusion_matrix\n",
    "import seaborn as sns\n",
    "import h5py\n",
    "from tensorflow import keras\n",
    "from keras import layers\n",
    "from keras.layers import Input, Dense, Activation, ZeroPadding2D, BatchNormalization, Flatten, Conv2D\n",
    "from keras.layers import AveragePooling2D, MaxPooling2D, Dropout, GlobalMaxPooling2D, GlobalAveragePooling2D\n",
    "from keras.models import Model\n",
    "from keras.preprocessing import image\n",
    "from keras.utils import layer_utils\n",
    "from keras.utils.data_utils import get_file\n",
    "from keras.applications.imagenet_utils import preprocess_input\n",
    "from keras.models import Sequential\n",
    "\n",
    "import pydot\n",
    "from IPython.display import SVG\n",
    "\n",
    "\n",
    "import keras.backend as K\n",
    "K.set_image_data_format('channels_last')\n",
    "import matplotlib.pyplot as plt\n",
    "from matplotlib.pyplot import imshow"
   ]
  },
  {
   "cell_type": "code",
   "execution_count": 2,
   "id": "556b7413",
   "metadata": {},
   "outputs": [],
   "source": [
    "def load_dataset(path_to_train, path_to_test):\n",
    "    train_dataset = h5py.File(path_to_train)\n",
    "    train_x = np.array(train_dataset['train_set_x'][:])\n",
    "    train_y = np.array(train_dataset['train_set_y'][:])\n",
    "\n",
    "    test_dataset = h5py.File(path_to_test)\n",
    "    test_x = np.array(test_dataset['test_set_x'][:])\n",
    "    test_y = np.array(test_dataset['test_set_y'][:])\n",
    "\n",
    "    # y reshaped\n",
    "    train_y = train_y.reshape((1, train_x.shape[0]))\n",
    "    test_y = test_y.reshape((1, test_y.shape[0]))\n",
    "\n",
    "    return train_x, train_y, test_x, test_y"
   ]
  },
  {
   "cell_type": "markdown",
   "id": "93850000",
   "metadata": {},
   "source": [
    "This dataset can be used to solve the Happy House problem. Where, we allow a person to enter the house only if he/she is smiling! So, a smile detector!\n",
    "\n"
   ]
  },
  {
   "cell_type": "markdown",
   "id": "c59a5e81",
   "metadata": {},
   "source": [
    "Details of the \"Happy\" dataset:\n",
    "\n",
    "Images are of shape (64,64,3)\n",
    "Training: 600 pictures\n",
    "Test: 150 pictures"
   ]
  },
  {
   "cell_type": "markdown",
   "id": "d00b4b57",
   "metadata": {},
   "source": [
    "# Load Dataset"
   ]
  },
  {
   "cell_type": "code",
   "execution_count": 3,
   "id": "e123de78",
   "metadata": {},
   "outputs": [
    {
     "name": "stdout",
     "output_type": "stream",
     "text": [
      "number of training examples = 600\n",
      "number of test examples = 150\n",
      "X_train shape: (600, 64, 64, 3)\n",
      "Y_train shape: (600, 1)\n",
      "X_test shape: (150, 64, 64, 3)\n",
      "Y_test shape: (150, 1)\n"
     ]
    }
   ],
   "source": [
    "X_train_orig, Y_train_orig, X_test_orig, Y_test_orig = load_dataset(\"train_happy.h5\",\"test_happy.h5\")\n",
    "\n",
    "# Normalize image vectors\n",
    "X_train = X_train_orig/255.\n",
    "X_test = X_test_orig/255\n",
    "\n",
    "# Reshape\n",
    "Y_train = Y_train_orig.T\n",
    "Y_test = Y_test_orig.T\n",
    "\n",
    "print (\"number of training examples = \" + str(X_train.shape[0]))\n",
    "print (\"number of test examples = \" + str(X_test.shape[0]))\n",
    "print (\"X_train shape: \" + str(X_train.shape))\n",
    "print (\"Y_train shape: \" + str(Y_train.shape))\n",
    "print (\"X_test shape: \" + str(X_test.shape))\n",
    "print (\"Y_test shape: \" + str(Y_test.shape))"
   ]
  },
  {
   "cell_type": "code",
   "execution_count": 4,
   "id": "1ecf7593",
   "metadata": {},
   "outputs": [
    {
     "name": "stdout",
     "output_type": "stream",
     "text": [
      "Image shape : (64, 64, 3)\n"
     ]
    },
    {
     "data": {
      "text/plain": [
       "<matplotlib.image.AxesImage at 0x2212c630ca0>"
      ]
     },
     "execution_count": 4,
     "metadata": {},
     "output_type": "execute_result"
    },
    {
     "data": {
      "image/png": "[encoded data removed]",
      "text/plain": [
       "<Figure size 432x288 with 1 Axes>"
      ]
     },
     "metadata": {
      "needs_background": "light"
     },
     "output_type": "display_data"
    }
   ],
   "source": [
    "# Sample image from dataset\n",
    "print(\"Image shape :\",X_train_orig[10].shape)\n",
    "imshow(X_train_orig[10])"
   ]
  },
  {
   "cell_type": "markdown",
   "id": "e992eff5",
   "metadata": {},
   "source": [
    "# Building Model"
   ]
  },
  {
   "cell_type": "code",
   "execution_count": 5,
   "id": "ab329cd4",
   "metadata": {},
   "outputs": [
    {
     "name": "stdout",
     "output_type": "stream",
     "text": [
      "Model: \"sequential\"\n",
      "_________________________________________________________________\n",
      " Layer (type)                Output Shape              Param #   \n",
      "=================================================================\n",
      " conv2d (Conv2D)             (None, 64, 64, 32)        4736      \n",
      "                                                                 \n",
      " batch_normalization (BatchN  (None, 64, 64, 32)       128       \n",
      " ormalization)                                                   \n",
      "                                                                 \n",
      " max_pooling2d (MaxPooling2D  (None, 32, 32, 32)       0         \n",
      " )                                                               \n",
      "                                                                 \n",
      " flatten (Flatten)           (None, 32768)             0         \n",
      "                                                                 \n",
      " dense (Dense)               (None, 1)                 32769     \n",
      "                                                                 \n",
      "=================================================================\n",
      "Total params: 37,633\n",
      "Trainable params: 37,569\n",
      "Non-trainable params: 64\n",
      "_________________________________________________________________\n"
     ]
    }
   ],
   "source": [
    "model = keras.Sequential(\n",
    "    [\n",
    "        keras.Input(shape=(64,64,3)),\n",
    "        layers.Conv2D(32, kernel_size=(7,7), activation=\"relu\",padding='same'),\n",
    "        keras.layers.BatchNormalization(),\n",
    "        layers.MaxPooling2D(pool_size=(2, 2)),\n",
    "        layers.Flatten(),\n",
    "        \n",
    "        layers.Dense(1, activation=\"sigmoid\"),\n",
    "  \n",
    "    ]\n",
    ")\n",
    "\n",
    "model.summary()"
   ]
  },
  {
   "cell_type": "code",
   "execution_count": 6,
   "id": "077935ac",
   "metadata": {},
   "outputs": [],
   "source": [
    "model.compile(optimizer='adam', loss='binary_crossentropy', metrics=[\"accuracy\"])"
   ]
  },
  {
   "cell_type": "code",
   "execution_count": 57,
   "id": "296d4449",
   "metadata": {},
   "outputs": [
    {
     "name": "stdout",
     "output_type": "stream",
     "text": [
      "Epoch 1/5\n",
      "600/600 [==============================] - 5s 8ms/step - loss: 1.1514 - accuracy: 0.7783\n",
      "Epoch 2/5\n",
      "600/600 [==============================] - 4s 7ms/step - loss: 0.3876 - accuracy: 0.8867\n",
      "Epoch 3/5\n",
      "600/600 [==============================] - 4s 7ms/step - loss: 0.2054 - accuracy: 0.9267\n",
      "Epoch 4/5\n",
      "600/600 [==============================] - 4s 7ms/step - loss: 0.2567 - accuracy: 0.9200\n",
      "Epoch 5/5\n",
      "600/600 [==============================] - 5s 8ms/step - loss: 0.1410 - accuracy: 0.9450\n"
     ]
    }
   ],
   "source": [
    "history_model = model.fit(X_train, Y_train, batch_size=1, epochs=5)"
   ]
  },
  {
   "cell_type": "markdown",
   "id": "8c48588f",
   "metadata": {},
   "source": [
    "# Evaluate Model"
   ]
  },
  {
   "cell_type": "code",
   "execution_count": 58,
   "id": "6e4273c0",
   "metadata": {},
   "outputs": [
    {
     "data": {
      "text/plain": [
       "<matplotlib.legend.Legend at 0x22135765520>"
      ]
     },
     "execution_count": 58,
     "metadata": {},
     "output_type": "execute_result"
    },
    {
     "data": {
      "image/png": "[encoded data removed]",
      "text/plain": [
       "<Figure size 432x288 with 1 Axes>"
      ]
     },
     "metadata": {
      "needs_background": "light"
     },
     "output_type": "display_data"
    }
   ],
   "source": [
    "train_accuracy = history_model.history['accuracy']\n",
    "train_loss = history_model.history['loss']\n",
    "\n",
    "count = range(len(train_accuracy))\n",
    "plt.plot(count, train_accuracy, label='Training accuracy')\n",
    "plt.plot(count, train_loss, label='Training Loss')\n",
    "plt.title('epochs vs Training Loss')\n",
    "plt.legend()"
   ]
  },
  {
   "cell_type": "code",
   "execution_count": 59,
   "id": "86458e2b",
   "metadata": {},
   "outputs": [
    {
     "name": "stdout",
     "output_type": "stream",
     "text": [
      "Test accuracy: 0.95333331823349\n"
     ]
    }
   ],
   "source": [
    "score=model.evaluate(X_test,Y_test,verbose=0)\n",
    "print('Test accuracy:',score[1])"
   ]
  },
  {
   "cell_type": "markdown",
   "id": "302b9c2d",
   "metadata": {},
   "source": [
    "print(history_model.history.values())"
   ]
  },
  {
   "cell_type": "code",
   "execution_count": 60,
   "id": "d4f9cb07",
   "metadata": {},
   "outputs": [
    {
     "name": "stdout",
     "output_type": "stream",
     "text": [
      "<bound method Model.evaluate of <keras.engine.sequential.Sequential object at 0x000002212C9C5040>>\n"
     ]
    }
   ],
   "source": [
    "print(model.evaluate)"
   ]
  },
  {
   "cell_type": "markdown",
   "id": "5b9776a2",
   "metadata": {},
   "source": [
    "# Confusion Matrix"
   ]
  },
  {
   "cell_type": "code",
   "execution_count": 61,
   "id": "db152231",
   "metadata": {
    "scrolled": false
   },
   "outputs": [
    {
     "name": "stdout",
     "output_type": "stream",
     "text": [
      "5/5 [==============================] - 0s 48ms/step\n"
     ]
    }
   ],
   "source": [
    "import matplotlib.pyplot as plt\n",
    "from sklearn import metrics\n",
    "\n",
    "\n",
    "\n",
    "predicted1=model.predict(X_test)\n",
    "\n"
   ]
  },
  {
   "cell_type": "code",
   "execution_count": 62,
   "id": "0064a4f9",
   "metadata": {},
   "outputs": [
    {
     "data": {
      "text/plain": [
       "array([[[[0.8745098 , 0.81176471, 0.62352941],\n",
       "         [0.85098039, 0.81568627, 0.61176471],\n",
       "         [0.87058824, 0.85098039, 0.6627451 ],\n",
       "         ...,\n",
       "         [1.        , 1.        , 0.99215686],\n",
       "         [1.        , 1.        , 0.99215686],\n",
       "         [1.        , 1.        , 0.99215686]],\n",
       "\n",
       "        [[0.85490196, 0.8       , 0.60392157],\n",
       "         [0.84313725, 0.79215686, 0.64705882],\n",
       "         [0.85490196, 0.82352941, 0.6745098 ],\n",
       "         ...,\n",
       "         [1.        , 1.        , 0.99215686],\n",
       "         [1.        , 1.        , 0.99215686],\n",
       "         [1.        , 1.        , 0.99215686]],\n",
       "\n",
       "        [[0.79215686, 0.74117647, 0.57254902],\n",
       "         [0.81176471, 0.76078431, 0.59607843],\n",
       "         [0.88627451, 0.85490196, 0.7372549 ],\n",
       "         ...,\n",
       "         [0.99607843, 1.        , 0.98431373],\n",
       "         [0.99215686, 0.99607843, 0.97647059],\n",
       "         [1.        , 1.        , 0.99215686]],\n",
       "\n",
       "        ...,\n",
       "\n",
       "        [[0.89019608, 0.90196078, 0.76862745],\n",
       "         [0.97254902, 0.97647059, 0.91372549],\n",
       "         [1.        , 1.        , 0.99215686],\n",
       "         ...,\n",
       "         [0.41568627, 0.26666667, 0.16862745],\n",
       "         [0.42352941, 0.26666667, 0.16862745],\n",
       "         [0.43137255, 0.27843137, 0.18039216]],\n",
       "\n",
       "        [[0.92156863, 0.92941176, 0.80784314],\n",
       "         [0.98039216, 0.98039216, 0.92156863],\n",
       "         [1.        , 1.        , 0.99215686],\n",
       "         ...,\n",
       "         [0.4       , 0.25490196, 0.16078431],\n",
       "         [0.41176471, 0.25882353, 0.16078431],\n",
       "         [0.41960784, 0.26666667, 0.16470588]],\n",
       "\n",
       "        [[0.89019608, 0.90588235, 0.73333333],\n",
       "         [0.94117647, 0.94901961, 0.85490196],\n",
       "         [1.        , 1.        , 0.98823529],\n",
       "         ...,\n",
       "         [0.38823529, 0.24313725, 0.15294118],\n",
       "         [0.4       , 0.25098039, 0.15686275],\n",
       "         [0.40784314, 0.25490196, 0.15686275]]],\n",
       "\n",
       "\n",
       "       [[[0.80392157, 0.85098039, 0.69803922],\n",
       "         [0.76078431, 0.81960784, 0.63529412],\n",
       "         [0.87843137, 0.9254902 , 0.77254902],\n",
       "         ...,\n",
       "         [0.70980392, 0.66666667, 0.60392157],\n",
       "         [0.67843137, 0.63137255, 0.55686275],\n",
       "         [0.65098039, 0.60784314, 0.52156863]],\n",
       "\n",
       "        [[0.8       , 0.84313725, 0.7254902 ],\n",
       "         [0.77647059, 0.83529412, 0.65098039],\n",
       "         [0.84313725, 0.88627451, 0.69803922],\n",
       "         ...,\n",
       "         [0.89411765, 0.88627451, 0.8627451 ],\n",
       "         [0.75686275, 0.74901961, 0.67843137],\n",
       "         [0.72156863, 0.69803922, 0.6       ]],\n",
       "\n",
       "        [[0.79607843, 0.84313725, 0.70588235],\n",
       "         [0.81568627, 0.8627451 , 0.68235294],\n",
       "         [0.82352941, 0.85882353, 0.67058824],\n",
       "         ...,\n",
       "         [0.95686275, 0.97254902, 0.95686275],\n",
       "         [0.80784314, 0.86666667, 0.8       ],\n",
       "         [0.77254902, 0.83137255, 0.71764706]],\n",
       "\n",
       "        ...,\n",
       "\n",
       "        [[0.70588235, 0.78823529, 0.76078431],\n",
       "         [0.56078431, 0.61960784, 0.7254902 ],\n",
       "         [0.49019608, 0.52941176, 0.61568627],\n",
       "         ...,\n",
       "         [0.14509804, 0.12941176, 0.11764706],\n",
       "         [0.14509804, 0.12941176, 0.11764706],\n",
       "         [0.14509804, 0.13333333, 0.11764706]],\n",
       "\n",
       "        [[0.58039216, 0.64705882, 0.75294118],\n",
       "         [0.48235294, 0.5254902 , 0.61568627],\n",
       "         [0.42745098, 0.45490196, 0.51764706],\n",
       "         ...,\n",
       "         [0.1372549 , 0.12156863, 0.10980392],\n",
       "         [0.14509804, 0.12941176, 0.11764706],\n",
       "         [0.14901961, 0.13333333, 0.11764706]],\n",
       "\n",
       "        [[0.50588235, 0.55686275, 0.64313725],\n",
       "         [0.42352941, 0.45490196, 0.52156863],\n",
       "         [0.38039216, 0.4       , 0.44705882],\n",
       "         ...,\n",
       "         [0.1372549 , 0.12156863, 0.10980392],\n",
       "         [0.1372549 , 0.12156863, 0.10980392],\n",
       "         [0.14509804, 0.12941176, 0.11764706]]],\n",
       "\n",
       "\n",
       "       [[[0.69411765, 0.63137255, 0.45098039],\n",
       "         [0.77647059, 0.74117647, 0.52156863],\n",
       "         [0.78039216, 0.75686275, 0.56862745],\n",
       "         ...,\n",
       "         [0.64313725, 0.53333333, 0.4627451 ],\n",
       "         [0.58823529, 0.47843137, 0.40784314],\n",
       "         [0.62745098, 0.51372549, 0.41176471]],\n",
       "\n",
       "        [[0.72156863, 0.69019608, 0.47843137],\n",
       "         [0.80784314, 0.79215686, 0.55294118],\n",
       "         [0.77254902, 0.76470588, 0.56862745],\n",
       "         ...,\n",
       "         [0.94901961, 0.84313725, 0.65490196],\n",
       "         [0.89019608, 0.77647059, 0.6       ],\n",
       "         [0.80784314, 0.69019608, 0.52941176]],\n",
       "\n",
       "        [[0.70588235, 0.6745098 , 0.50588235],\n",
       "         [0.68627451, 0.66666667, 0.49019608],\n",
       "         [0.67058824, 0.64705882, 0.47843137],\n",
       "         ...,\n",
       "         [0.98431373, 0.91764706, 0.73333333],\n",
       "         [0.97647059, 0.89019608, 0.68627451],\n",
       "         [0.98823529, 0.89019608, 0.6745098 ]],\n",
       "\n",
       "        ...,\n",
       "\n",
       "        [[1.        , 1.        , 1.        ],\n",
       "         [1.        , 1.        , 1.        ],\n",
       "         [1.        , 1.        , 1.        ],\n",
       "         ...,\n",
       "         [0.12941176, 0.11372549, 0.07058824],\n",
       "         [0.14901961, 0.12941176, 0.08627451],\n",
       "         [0.15686275, 0.1372549 , 0.09019608]],\n",
       "\n",
       "        [[1.        , 1.        , 1.        ],\n",
       "         [1.        , 1.        , 1.        ],\n",
       "         [1.        , 1.        , 1.        ],\n",
       "         ...,\n",
       "         [0.1254902 , 0.10588235, 0.06666667],\n",
       "         [0.14509804, 0.12156863, 0.08235294],\n",
       "         [0.14901961, 0.12941176, 0.08235294]],\n",
       "\n",
       "        [[1.        , 1.        , 1.        ],\n",
       "         [1.        , 1.        , 1.        ],\n",
       "         [0.97647059, 0.97647059, 0.97254902],\n",
       "         ...,\n",
       "         [0.12156863, 0.10588235, 0.06666667],\n",
       "         [0.1372549 , 0.11764706, 0.07843137],\n",
       "         [0.14509804, 0.1254902 , 0.08235294]]],\n",
       "\n",
       "\n",
       "       ...,\n",
       "\n",
       "\n",
       "       [[[0.85490196, 0.89019608, 0.72941176],\n",
       "         [0.83137255, 0.8745098 , 0.67843137],\n",
       "         [0.94117647, 0.96470588, 0.81568627],\n",
       "         ...,\n",
       "         [0.84313725, 0.81176471, 0.75686275],\n",
       "         [0.77647059, 0.7372549 , 0.65098039],\n",
       "         [0.75686275, 0.70196078, 0.6       ]],\n",
       "\n",
       "        [[0.88235294, 0.90980392, 0.79607843],\n",
       "         [0.8745098 , 0.90980392, 0.7254902 ],\n",
       "         [0.89411765, 0.9254902 , 0.73333333],\n",
       "         ...,\n",
       "         [0.97647059, 0.98039216, 0.96470588],\n",
       "         [0.89019608, 0.90588235, 0.84705882],\n",
       "         [0.85882353, 0.8627451 , 0.76470588]],\n",
       "\n",
       "        [[0.87843137, 0.90980392, 0.76470588],\n",
       "         [0.90196078, 0.92941176, 0.76470588],\n",
       "         [0.89019608, 0.91764706, 0.74117647],\n",
       "         ...,\n",
       "         [0.95294118, 0.97647059, 0.94117647],\n",
       "         [0.84705882, 0.90196078, 0.82352941],\n",
       "         [0.84313725, 0.89411765, 0.78431373]],\n",
       "\n",
       "        ...,\n",
       "\n",
       "        [[0.80784314, 0.87058824, 0.81568627],\n",
       "         [0.63137255, 0.68235294, 0.78039216],\n",
       "         [0.55686275, 0.58823529, 0.67058824],\n",
       "         ...,\n",
       "         [0.13333333, 0.11372549, 0.10196078],\n",
       "         [0.14901961, 0.12941176, 0.11372549],\n",
       "         [0.15686275, 0.1372549 , 0.12156863]],\n",
       "\n",
       "        [[0.66666667, 0.72156863, 0.81568627],\n",
       "         [0.54901961, 0.58823529, 0.67058824],\n",
       "         [0.48235294, 0.50196078, 0.56470588],\n",
       "         ...,\n",
       "         [0.1372549 , 0.12156863, 0.10588235],\n",
       "         [0.14509804, 0.1254902 , 0.11372549],\n",
       "         [0.16470588, 0.14509804, 0.12941176]],\n",
       "\n",
       "        [[0.57647059, 0.61960784, 0.70196078],\n",
       "         [0.47843137, 0.50196078, 0.56078431],\n",
       "         [0.43529412, 0.45098039, 0.49411765],\n",
       "         ...,\n",
       "         [0.14509804, 0.12941176, 0.11372549],\n",
       "         [0.14901961, 0.13333333, 0.11764706],\n",
       "         [0.16078431, 0.14117647, 0.1254902 ]]],\n",
       "\n",
       "\n",
       "       [[[0.70196078, 0.60392157, 0.42352941],\n",
       "         [0.69803922, 0.62352941, 0.42745098],\n",
       "         [0.6627451 , 0.59215686, 0.40784314],\n",
       "         ...,\n",
       "         [0.96862745, 0.96862745, 0.74117647],\n",
       "         [0.96470588, 0.96470588, 0.65882353],\n",
       "         [0.96862745, 0.96862745, 0.6745098 ]],\n",
       "\n",
       "        [[0.67843137, 0.57647059, 0.39215686],\n",
       "         [0.76470588, 0.68627451, 0.45490196],\n",
       "         [0.74509804, 0.69411765, 0.46666667],\n",
       "         ...,\n",
       "         [0.98431373, 0.98431373, 0.78039216],\n",
       "         [0.98823529, 0.98823529, 0.73333333],\n",
       "         [0.98039216, 0.98039216, 0.71372549]],\n",
       "\n",
       "        [[0.78823529, 0.63137255, 0.45490196],\n",
       "         [0.79607843, 0.68235294, 0.46666667],\n",
       "         [0.76862745, 0.71764706, 0.4627451 ],\n",
       "         ...,\n",
       "         [0.97254902, 0.96862745, 0.7372549 ],\n",
       "         [0.98823529, 0.98431373, 0.74901961],\n",
       "         [0.98431373, 0.98431373, 0.74901961]],\n",
       "\n",
       "        ...,\n",
       "\n",
       "        [[0.45882353, 0.46666667, 0.33333333],\n",
       "         [0.5372549 , 0.53333333, 0.35294118],\n",
       "         [0.51764706, 0.52941176, 0.38039216],\n",
       "         ...,\n",
       "         [0.38039216, 0.36470588, 0.2745098 ],\n",
       "         [0.37647059, 0.34509804, 0.2627451 ],\n",
       "         [0.46666667, 0.42352941, 0.25882353]],\n",
       "\n",
       "        [[0.45098039, 0.44313725, 0.30588235],\n",
       "         [0.4745098 , 0.4745098 , 0.34901961],\n",
       "         [0.45882353, 0.4745098 , 0.32941176],\n",
       "         ...,\n",
       "         [0.27843137, 0.25882353, 0.19607843],\n",
       "         [0.30196078, 0.2745098 , 0.20784314],\n",
       "         [0.41176471, 0.36862745, 0.29019608]],\n",
       "\n",
       "        [[0.50196078, 0.48235294, 0.3372549 ],\n",
       "         [0.70196078, 0.67843137, 0.54901961],\n",
       "         [0.57254902, 0.54901961, 0.39607843],\n",
       "         ...,\n",
       "         [0.34509804, 0.30980392, 0.23921569],\n",
       "         [0.41176471, 0.38039216, 0.2745098 ],\n",
       "         [0.27058824, 0.23137255, 0.21960784]]],\n",
       "\n",
       "\n",
       "       [[[0.79607843, 0.85882353, 0.70588235],\n",
       "         [0.76470588, 0.83529412, 0.67843137],\n",
       "         [0.82352941, 0.88627451, 0.74901961],\n",
       "         ...,\n",
       "         [0.46666667, 0.44705882, 0.42745098],\n",
       "         [0.40392157, 0.38823529, 0.37647059],\n",
       "         [0.35294118, 0.34117647, 0.32941176]],\n",
       "\n",
       "        [[0.69019608, 0.75294118, 0.61176471],\n",
       "         [0.70588235, 0.77254902, 0.6       ],\n",
       "         [0.78823529, 0.85490196, 0.69019608],\n",
       "         ...,\n",
       "         [0.61568627, 0.58431373, 0.53333333],\n",
       "         [0.58039216, 0.54509804, 0.47843137],\n",
       "         [0.55686275, 0.51764706, 0.44705882]],\n",
       "\n",
       "        [[0.71764706, 0.78039216, 0.65490196],\n",
       "         [0.72156863, 0.78431373, 0.60784314],\n",
       "         [0.73333333, 0.78431373, 0.60392157],\n",
       "         ...,\n",
       "         [0.77254902, 0.79215686, 0.76470588],\n",
       "         [0.67058824, 0.69019608, 0.60784314],\n",
       "         [0.58823529, 0.59215686, 0.51372549]],\n",
       "\n",
       "        ...,\n",
       "\n",
       "        [[0.61176471, 0.69411765, 0.81568627],\n",
       "         [0.53333333, 0.59607843, 0.72156863],\n",
       "         [0.4745098 , 0.5254902 , 0.63921569],\n",
       "         ...,\n",
       "         [0.10980392, 0.09803922, 0.09019608],\n",
       "         [0.1254902 , 0.11372549, 0.10588235],\n",
       "         [0.13333333, 0.12156863, 0.10980392]],\n",
       "\n",
       "        [[0.50588235, 0.57254902, 0.69803922],\n",
       "         [0.47058824, 0.52156863, 0.63137255],\n",
       "         [0.41568627, 0.45098039, 0.54117647],\n",
       "         ...,\n",
       "         [0.12156863, 0.10588235, 0.09803922],\n",
       "         [0.1254902 , 0.11372549, 0.10196078],\n",
       "         [0.14117647, 0.1254902 , 0.11764706]],\n",
       "\n",
       "        [[0.45098039, 0.50588235, 0.61176471],\n",
       "         [0.41176471, 0.45098039, 0.54117647],\n",
       "         [0.36862745, 0.4       , 0.47058824],\n",
       "         ...,\n",
       "         [0.12156863, 0.10588235, 0.09803922],\n",
       "         [0.1254902 , 0.10980392, 0.10196078],\n",
       "         [0.14509804, 0.12941176, 0.11764706]]]])"
      ]
     },
     "execution_count": 62,
     "metadata": {},
     "output_type": "execute_result"
    }
   ],
   "source": [
    "X_test"
   ]
  },
  {
   "cell_type": "code",
   "execution_count": 63,
   "id": "f1b9d151",
   "metadata": {},
   "outputs": [
    {
     "data": {
      "text/plain": [
       "array([[9.9968302e-01],\n",
       "       [9.9573237e-01],\n",
       "       [9.9999440e-01],\n",
       "       [9.9697584e-01],\n",
       "       [8.3660537e-01],\n",
       "       [9.9743068e-01],\n",
       "       [9.9301714e-01],\n",
       "       [1.4962350e-02],\n",
       "       [9.9171376e-01],\n",
       "       [1.2238848e-02],\n",
       "       [9.9724394e-01],\n",
       "       [3.1783810e-01],\n",
       "       [9.8992157e-01],\n",
       "       [9.0947628e-01],\n",
       "       [7.0654005e-02],\n",
       "       [9.8234630e-01],\n",
       "       [5.2386709e-04],\n",
       "       [9.9943084e-01],\n",
       "       [5.6611677e-04],\n",
       "       [9.9995762e-01],\n",
       "       [9.9907589e-01],\n",
       "       [9.8089379e-01],\n",
       "       [4.9531275e-01],\n",
       "       [9.9999839e-01],\n",
       "       [2.8121675e-04],\n",
       "       [3.8433663e-04],\n",
       "       [9.8086268e-01],\n",
       "       [2.0229004e-03],\n",
       "       [5.9217644e-01],\n",
       "       [9.9966550e-01],\n",
       "       [9.9986857e-01],\n",
       "       [9.9997956e-01],\n",
       "       [9.9472243e-01],\n",
       "       [9.9823636e-01],\n",
       "       [9.9967653e-01],\n",
       "       [9.9851787e-01],\n",
       "       [2.5644397e-02],\n",
       "       [2.3643898e-02],\n",
       "       [2.7446689e-02],\n",
       "       [1.6975511e-03],\n",
       "       [9.7064626e-01],\n",
       "       [2.2331316e-02],\n",
       "       [9.9302545e-02],\n",
       "       [4.6615012e-02],\n",
       "       [9.9992615e-01],\n",
       "       [1.3608688e-02],\n",
       "       [3.5357781e-04],\n",
       "       [3.2918919e-02],\n",
       "       [9.9908316e-01],\n",
       "       [4.9416456e-02],\n",
       "       [8.9680916e-03],\n",
       "       [8.9545935e-02],\n",
       "       [9.7775996e-01],\n",
       "       [9.8794591e-01],\n",
       "       [3.7643433e-02],\n",
       "       [9.9980390e-01],\n",
       "       [9.9967629e-01],\n",
       "       [9.8303086e-01],\n",
       "       [9.9975258e-01],\n",
       "       [9.9986571e-01],\n",
       "       [8.7164098e-01],\n",
       "       [9.9995828e-01],\n",
       "       [8.7790102e-01],\n",
       "       [9.7835964e-01],\n",
       "       [9.9997097e-01],\n",
       "       [7.4668002e-01],\n",
       "       [9.6787053e-01],\n",
       "       [9.8930132e-01],\n",
       "       [9.9952602e-01],\n",
       "       [9.9999481e-01],\n",
       "       [9.9989814e-01],\n",
       "       [1.2637873e-01],\n",
       "       [9.7755618e-02],\n",
       "       [2.9594517e-01],\n",
       "       [5.1517013e-02],\n",
       "       [9.9216050e-01],\n",
       "       [9.8345560e-01],\n",
       "       [2.5787705e-03],\n",
       "       [4.6203971e-02],\n",
       "       [9.9996608e-01],\n",
       "       [1.9232621e-02],\n",
       "       [9.9987018e-01],\n",
       "       [1.6337037e-01],\n",
       "       [9.9994397e-01],\n",
       "       [3.6167222e-01],\n",
       "       [8.4582436e-01],\n",
       "       [9.9974835e-01],\n",
       "       [2.1379988e-03],\n",
       "       [6.9571443e-02],\n",
       "       [9.9972188e-01],\n",
       "       [7.7098473e-03],\n",
       "       [8.9398976e-03],\n",
       "       [7.1622424e-02],\n",
       "       [1.8177904e-01],\n",
       "       [9.9285990e-01],\n",
       "       [5.9133214e-01],\n",
       "       [9.9982125e-01],\n",
       "       [9.7908862e-02],\n",
       "       [9.9999815e-01],\n",
       "       [9.8220879e-01],\n",
       "       [9.9992806e-01],\n",
       "       [5.3615041e-02],\n",
       "       [9.9961597e-01],\n",
       "       [2.0170374e-01],\n",
       "       [1.1246253e-01],\n",
       "       [2.4164726e-03],\n",
       "       [1.9006988e-02],\n",
       "       [9.9983561e-01],\n",
       "       [1.6222555e-03],\n",
       "       [2.2609180e-02],\n",
       "       [9.9983549e-01],\n",
       "       [9.9855304e-01],\n",
       "       [2.7616208e-02],\n",
       "       [3.5455555e-01],\n",
       "       [9.9999505e-01],\n",
       "       [9.9962950e-01],\n",
       "       [7.0705003e-01],\n",
       "       [3.5547683e-01],\n",
       "       [9.9999511e-01],\n",
       "       [6.6396005e-02],\n",
       "       [9.9528110e-01],\n",
       "       [9.9862379e-01],\n",
       "       [6.6125356e-03],\n",
       "       [9.9989092e-01],\n",
       "       [9.1696382e-01],\n",
       "       [9.9664950e-01],\n",
       "       [1.4841416e-03],\n",
       "       [9.9968147e-01],\n",
       "       [9.8939532e-01],\n",
       "       [2.3194844e-02],\n",
       "       [9.9998409e-01],\n",
       "       [9.9981976e-01],\n",
       "       [1.0885906e-02],\n",
       "       [9.9997091e-01],\n",
       "       [9.9952990e-01],\n",
       "       [9.9992579e-01],\n",
       "       [6.5724176e-01],\n",
       "       [9.9017447e-01],\n",
       "       [4.6328729e-01],\n",
       "       [9.9962759e-01],\n",
       "       [9.9866724e-01],\n",
       "       [9.9992615e-01],\n",
       "       [1.3553810e-01],\n",
       "       [9.7713566e-01],\n",
       "       [5.2774403e-02],\n",
       "       [5.9713924e-01],\n",
       "       [3.7713104e-03],\n",
       "       [9.9949783e-01],\n",
       "       [9.9032539e-01],\n",
       "       [5.7897246e-01]], dtype=float32)"
      ]
     },
     "execution_count": 63,
     "metadata": {},
     "output_type": "execute_result"
    }
   ],
   "source": [
    "predicted1"
   ]
  },
  {
   "cell_type": "code",
   "execution_count": 64,
   "id": "56691c4a",
   "metadata": {},
   "outputs": [
    {
     "data": {
      "text/plain": [
       "array('i', [1, 1, 1, 1, 1, 1, 1, 0, 1, 0, 1, 0, 1, 1, 0, 1, 0, 1, 0, 1, 1, 1, 0, 1, 0, 0, 1, 0, 1, 1, 1, 1, 1, 1, 1, 1, 0, 0, 0, 0, 1, 0, 0, 0, 1, 0, 0, 0, 1, 0, 0, 0, 1, 1, 0, 1, 1, 1, 1, 1, 1, 1, 1, 1, 1, 1, 1, 1, 1, 1, 1, 0, 0, 0, 0, 1, 1, 0, 0, 1, 0, 1, 0, 1, 0, 1, 1, 0, 0, 1, 0, 0, 0, 0, 1, 1, 1, 0, 1, 1, 1, 0, 1, 0, 0, 0, 0, 1, 0, 0, 1, 1, 0, 0, 1, 1, 1, 0, 1, 0, 1, 1, 0, 1, 1, 1, 0, 1, 1, 0, 1, 1, 0, 1, 1, 1, 1, 1, 0, 1, 1, 1, 0, 1, 0, 1, 0, 1, 1, 1])"
      ]
     },
     "execution_count": 64,
     "metadata": {},
     "output_type": "execute_result"
    }
   ],
   "source": [
    "L=[]\n",
    "for i in predicted1:\n",
    "    if i > 0.5:\n",
    "        i=1\n",
    "        L.append(i)\n",
    "    else:\n",
    "        i=0\n",
    "        L.append(i)\n",
    "    i=+1    \n",
    "        \n",
    "L \n",
    "from array import array\n",
    "j=array(\"i\",L)\n",
    "j"
   ]
  },
  {
   "cell_type": "code",
   "execution_count": 65,
   "id": "6a85839d",
   "metadata": {},
   "outputs": [
    {
     "name": "stdout",
     "output_type": "stream",
     "text": [
      "(150, 1)\n",
      "(150, 1)\n"
     ]
    }
   ],
   "source": [
    "pred = np.array(L).reshape(-1,1)\n",
    "print(pred.shape)\n",
    "print(Y_test.shape)"
   ]
  },
  {
   "cell_type": "code",
   "execution_count": 66,
   "id": "7a3a5196",
   "metadata": {},
   "outputs": [
    {
     "data": {
      "text/plain": [
       "numpy.ndarray"
      ]
     },
     "execution_count": 66,
     "metadata": {},
     "output_type": "execute_result"
    }
   ],
   "source": [
    "type(X_test)\n"
   ]
  },
  {
   "cell_type": "code",
   "execution_count": 67,
   "id": "762f0919",
   "metadata": {},
   "outputs": [],
   "source": [
    "\n",
    "confusion_matrix1 = metrics.confusion_matrix(Y_test,pred)\n",
    "\n"
   ]
  },
  {
   "cell_type": "code",
   "execution_count": 68,
   "id": "70c63ad8",
   "metadata": {},
   "outputs": [
    {
     "data": {
      "image/png": "[encoded data removed]",
      "text/plain": [
       "<Figure size 432x288 with 2 Axes>"
      ]
     },
     "metadata": {
      "needs_background": "light"
     },
     "output_type": "display_data"
    }
   ],
   "source": [
    "cm_display = metrics.ConfusionMatrixDisplay(confusion_matrix1, display_labels = ['Unhappy', 'happy'])\n",
    "\n",
    "cm_display.plot()\n",
    "plt.show()"
   ]
  }
 ],
 "metadata": {
  "kernelspec": {
   "display_name": "Python 3 (ipykernel)",
   "language": "python",
   "name": "python3"
  },
  "language_info": {
   "codemirror_mode": {
    "name": "ipython",
    "version": 3
   },
   "file_extension": ".py",
   "mimetype": "text/x-python",
   "name": "python",
   "nbconvert_exporter": "python",
   "pygments_lexer": "ipython3",
   "version": "3.9.12"
  }
 },
 "nbformat": 4,
 "nbformat_minor": 5
}
